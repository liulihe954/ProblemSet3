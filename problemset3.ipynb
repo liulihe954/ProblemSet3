{
 "cells": [
  {
   "cell_type": "markdown",
   "metadata": {},
   "source": [
    "Problem Set 3 \n",
    "Lihe Liu"
   ]
  },
  {
   "cell_type": "code",
   "execution_count": null,
   "metadata": {},
   "outputs": [],
   "source": [
    "### 1. to find the highest value in line-by-line style \n",
    "#open the input file(skip the first line aka. col-names) and set starting value 0.0 for storage \n",
    "data =  open(\"/Users/liulihe95/Desktop/CourseFall2018/CompTools/CO-OPS__8729108__wl.csv\", 'r')\n",
    "maxvalue = 0.0\n",
    "next(data)\n",
    "## for the loop, parse every line and then compare the water level record with the temporary \"max\", if bigger, replace\n",
    "for level in data:\n",
    "    date=level.strip().split(\",\")[0] # select the date record\n",
    "    waterlevel=level.strip().split(\",\")[1] # select the water level record\n",
    "    #try --- skip empty values\n",
    "    try:\n",
    "        waterlevel = float(waterlevel)\n",
    "    #continue even if non-float values show up\n",
    "    except:\n",
    "        continue \n",
    "    if waterlevel > maxvalue:\n",
    "        maxvalue=float(waterlevel) #store the temporary highest value in the starting value\n",
    "        maxdate=date # take the date of corresponding highest water level\n",
    "## print the results in an organized way\n",
    "print('Date_and_time: ', maxdate,'\\nHighest_water_level: ' ,maxvalue)"
   ]
  },
  {
   "cell_type": "markdown",
   "metadata": {},
   "source": [
    "Date_and_time:  2018-10-10 18:06 \n",
    "Highest_water_level:  6.647"
   ]
  },
  {
   "cell_type": "code",
   "execution_count": 190,
   "metadata": {},
   "outputs": [
    {
     "name": "stdout",
     "output_type": "stream",
     "text": [
      "Date_and_time:  2018-10-10 18:06 \n",
      "Highest_water_level:  6.647\n"
     ]
    }
   ],
   "source": [
    "### 2. to find the highest value using pandas\n",
    "## import, organize and check dataset structure\n",
    "import pandas as pd\n",
    "data=pd.read_csv(\"/Users/liulihe95/Desktop/CourseFall2018/CompTools/CO-OPS__8729108__wl.csv\")\n",
    "data.columns = ['Date Time','Water Level','Sigma','O','F','R','L','Quality']\n",
    "data.dropna() #remove NA\n",
    "data.shape\n",
    "## using .max and .idxmax mthods to find the max value and the correspoding index of that records, then print the output in an orgnized way\n",
    "print('Date_and_time: ',data['Date Time'][data['Water Level'].idxmax()],'\\nHighest_water_level: ', data['Water Level'].max())"
   ]
  },
  {
   "cell_type": "markdown",
   "metadata": {},
   "source": [
    "Date_and_time:  2018-10-10 18:06 \n",
    "Highest_water_level:  6.647"
   ]
  },
  {
   "cell_type": "code",
   "execution_count": 191,
   "metadata": {},
   "outputs": [
    {
     "name": "stdout",
     "output_type": "stream",
     "text": [
      "The fastest rise in water level happened during the time span- 2018-10-10 17:36 to 2018-10-10 17:42 , water level changed from 4.951 to 5.591 , the range was 0.64 .\n"
     ]
    }
   ],
   "source": [
    "###3. use .shift method - get the diff of continuous two lines and then sort\n",
    "# use shift to move every line downwards by 1 and do substractions\n",
    "data['shift'] = data[\"Water Level\"].shift(1)\n",
    "# add the differances to the dataset as a new columm (to be sorted)\n",
    "data['diff'] = data['Water Level'] - data[\"shift\"]\n",
    "# print the results in an organized way\n",
    "print('The fastest rise in water level happened during the time span-',data['Date Time'][data['diff'].idxmax()-1],'to',data['Date Time'][data['diff'].idxmax()],', water level changed from',round(data['Water Level'][data['diff'].idxmax()-1],4),'to',round(data['Water Level'][data['diff'].idxmax()],4), ', the range was',round(data['diff'].max(),4),'.')\n"
   ]
  },
  {
   "cell_type": "markdown",
   "metadata": {},
   "source": [
    "The fastest rise in water level happened during the time span- 2018-10-10 17:36 to 2018-10-10 17:42 , water level changed from 4.951 to 5.591 , the range was 0.64 ."
   ]
  },
  {
   "cell_type": "code",
   "execution_count": 179,
   "metadata": {},
   "outputs": [
    {
     "data": {
      "image/png": "[encoded data removed]",
      "text/plain": [
       "<Figure size 432x288 with 1 Axes>"
      ]
     },
     "metadata": {
      "needs_background": "light"
     },
     "output_type": "display_data"
    }
   ],
   "source": [
    "###4. plot - water level over time using matplotlib\n",
    "%matplotlib inline \n",
    "import matplotlib.pyplot as plt\n",
    "#import dataset\n",
    "Table = pd.read_csv(\"/Users/liulihe95/Desktop/CourseFall2018/CompTools/CO-OPS__8729108__wl.csv\") #reads through csv and puts into a table \n",
    "Table.columns = ['Date Time','Water Level','Sigma','O','F','R','L','Quality']\n",
    "Table.dropna()\n",
    "wl = Table['Water Level']\n",
    "time = Table['Date Time']\n",
    "# set paramaters\n",
    "plt.plot(time, wl, '-')\n",
    "plt.axis([0, 750, 0, 7])\n",
    "plt.xlabel('\\n Time') # label of x\n",
    "plt.ylabel('\\n Water Level') # label of y\n",
    "#set title\n",
    "plt.title('\\n Water level observations from the Panama City, FL station \\n during Hurricane Michael (from 10/9/2018 0:00)\\n')\n",
    "plt.tick_params(\n",
    "    axis='x', # make changes to x\n",
    "    which='both',#both major and minor ticks will be affected\n",
    "    bottom=False,#removes x axis tick marks\n",
    "    top=False,#removes x axis ticks along the top\n",
    "    labelbottom=False)\n",
    "plt.show()"
   ]
  },
  {
   "cell_type": "code",
   "execution_count": null,
   "metadata": {},
   "outputs": [],
   "source": []
  },
  {
   "cell_type": "code",
   "execution_count": 192,
   "metadata": {},
   "outputs": [
    {
     "name": "stdout",
     "output_type": "stream",
     "text": [
      "Water level data file from Panama City, Fl has been downloaded, which can also be accessed in:\n",
      " https://tidesandcurrents.noaa.gov/api/datagetter?station=8729108&time_zone=GMT&datum=MLLW&product=water_level&application=NOS.COOPS.TAC.WL&units=english&format=csv&date=today \n",
      "\n",
      "Date Time, Water Level, Sigma, O, F, R, L, Quality \n",
      "2018-11-18 00:00,0.860,0.003,0,0,0,0,p\n",
      "2018-11-1\n"
     ]
    }
   ],
   "source": [
    "## acquire info with url and write to a file\n",
    "import urllib.request, urllib.parse, urllib.error\n",
    "import datetime as dt\n",
    "import requests\n",
    "# set url for data acquire and set up parameters\n",
    "serviceurl = 'https://tidesandcurrents.noaa.gov/api/datagetter?'\n",
    "id=\"8729108\"\n",
    "units=\"english\"\n",
    "timezone=\"GMT\"\n",
    "datum=\"MLLW\"\n",
    "product=\"water_level\"\n",
    "application=\"NOS.COOPS.TAC.WL\"\n",
    "format=\"csv\"\n",
    "#open a output file\n",
    "output=open(\"Water_Level_Today.csv\", \"w+\")\n",
    "url = serviceurl +\\\n",
    "      urllib.parse.urlencode({\"station\":id,\n",
    "                                \"time_zone\":timezone,\n",
    "                                \"datum\":datum,\n",
    "                                \"product\":product,\n",
    "                                \"application\": application,\n",
    "                                \"units\":units,\n",
    "                                \"format\": \"csv\",\n",
    "                                \"date\":\"today\"\n",
    "                               })\n",
    "print('Water level data file from Panama City, Fl has been downloaded, which can also be accessed in:\\n',url,'\\n') #report url\n",
    "response = requests.get(url)\n",
    "\n",
    "if response.status_code != 200:\n",
    "    print('Failed to get data:', response.status_code)\n",
    "else:\n",
    "    print(response.text[:100])\n",
    "    output.write(response.text)\n",
    "\n",
    "#Output file closed\n",
    "output.close()"
   ]
  },
  {
   "cell_type": "markdown",
   "metadata": {},
   "source": [
    "Water level data file from Panama City, Fl has been downloaded, which can also be accessed in:\n",
    " https://tidesandcurrents.noaa.gov/api/datagetter?station=8729108&time_zone=GMT&datum=MLLW&product=water_level&application=NOS.COOPS.TAC.WL&units=english&format=csv&date=today \n",
    "\n",
    "Date Time, Water Level, Sigma, O, F, R, L, Quality \n",
    "2018-11-18 00:00,0.860,0.003,0,0,0,0,p\n",
    "2018-11-1"
   ]
  }
 ],
 "metadata": {
  "kernelspec": {
   "display_name": "Python 3",
   "language": "python",
   "name": "python3"
  },
  "language_info": {
   "codemirror_mode": {
    "name": "ipython",
    "version": 3
   },
   "file_extension": ".py",
   "mimetype": "text/x-python",
   "name": "python",
   "nbconvert_exporter": "python",
   "pygments_lexer": "ipython3",
   "version": "3.7.0"
  }
 },
 "nbformat": 4,
 "nbformat_minor": 2
}
